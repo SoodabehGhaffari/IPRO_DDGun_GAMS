{
 "cells": [
  {
   "cell_type": "code",
   "execution_count": 1,
   "metadata": {},
   "outputs": [],
   "source": [
    "import os"
   ]
  },
  {
   "cell_type": "code",
   "execution_count": null,
   "metadata": {},
   "outputs": [],
   "source": [
    "#./Sarin/02_design/rosettta/input/3_conformers/best-sc-scores"
   ]
  },
  {
   "cell_type": "code",
   "execution_count": 2,
   "metadata": {},
   "outputs": [],
   "source": [
    "INPUT_DIR = './inputs/3_conformers/best-scores'\n",
    "input_files = [INPUT_DIR+'/'+f for f in os.listdir(INPUT_DIR)]"
   ]
  },
  {
   "cell_type": "code",
   "execution_count": 3,
   "metadata": {},
   "outputs": [],
   "source": [
    "script_files = ['./design_scripts/real1/'+f for f in os.listdir('./design_scripts/real1/')]"
   ]
  },
  {
   "cell_type": "code",
   "execution_count": 4,
   "metadata": {},
   "outputs": [],
   "source": [
    "mkdir simulations/real1"
   ]
  },
  {
   "cell_type": "code",
   "execution_count": 5,
   "metadata": {},
   "outputs": [],
   "source": [
    "SIMULATION_DIR = './simulations/real1'\n",
    "MAINDIR = os.getcwd()\n",
    "\n",
    "for input_file in input_files:\n",
    "    label = input_file.split('/')[-1][:-4]\n",
    "    os.system('mkdir {0}/{1}'.format(SIMULATION_DIR,label))\n",
    "    os.system('cp {0} {1}/{2}/'.format(input_file,SIMULATION_DIR,label))\n",
    "    for script_file in script_files:\n",
    "        os.system('cp {0} {1}/{2}/'.format(script_file,SIMULATION_DIR,label))\n",
    "    os.chdir(SIMULATION_DIR+'/'+label)\n",
    "    job = open('design.sh').read()\n",
    "    for i in range(20):\n",
    "        f = open('real1_Sarin_design_run_{0}.sh'.format(i),'w')\n",
    "        f.write(job.format(label+'.pdb','run_{0}'.format(i)))\n",
    "        f.close()\n",
    "        os.system('qsub real1_Sarin_design_run_{0}.sh'.format(i))\n",
    "    os.chdir(MAINDIR)"
   ]
  },
  {
   "cell_type": "code",
   "execution_count": null,
   "metadata": {},
   "outputs": [],
   "source": []
  }
 ],
 "metadata": {
  "kernelspec": {
   "display_name": "Python 3",
   "language": "python",
   "name": "python3"
  },
  "language_info": {
   "codemirror_mode": {
    "name": "ipython",
    "version": 3
   },
   "file_extension": ".py",
   "mimetype": "text/x-python",
   "name": "python",
   "nbconvert_exporter": "python",
   "pygments_lexer": "ipython3",
   "version": "3.8.3"
  }
 },
 "nbformat": 4,
 "nbformat_minor": 4
}
